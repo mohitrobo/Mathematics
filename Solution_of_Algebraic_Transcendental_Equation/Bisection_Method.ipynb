{
 "cells": [
  {
   "cell_type": "code",
   "execution_count": 1,
   "metadata": {},
   "outputs": [],
   "source": [
    "import numpy as np"
   ]
  },
  {
   "cell_type": "code",
   "execution_count": 2,
   "metadata": {},
   "outputs": [],
   "source": [
    "# The function is x^3 - 4*x - 9 \n",
    "def func( x ): \n",
    "    return x**3 - 4*x - 9"
   ]
  },
  {
   "cell_type": "code",
   "execution_count": 3,
   "metadata": {},
   "outputs": [],
   "source": [
    "r = [2,3]\n",
    "x = np.mean(r)"
   ]
  },
  {
   "cell_type": "code",
   "execution_count": 47,
   "metadata": {},
   "outputs": [],
   "source": [
    "#z = [func(r[0]),func(r[1])]\n",
    "#a = list(zip(r,z))"
   ]
  },
  {
   "cell_type": "code",
   "execution_count": 48,
   "metadata": {},
   "outputs": [],
   "source": [
    "#z"
   ]
  },
  {
   "cell_type": "code",
   "execution_count": 49,
   "metadata": {},
   "outputs": [],
   "source": [
    "#a"
   ]
  },
  {
   "cell_type": "code",
   "execution_count": 50,
   "metadata": {},
   "outputs": [],
   "source": [
    "#z.index(max(z))"
   ]
  },
  {
   "cell_type": "code",
   "execution_count": 51,
   "metadata": {},
   "outputs": [],
   "source": [
    "#a[1][0]"
   ]
  },
  {
   "cell_type": "code",
   "execution_count": 4,
   "metadata": {},
   "outputs": [],
   "source": [
    "eps = 0.001"
   ]
  },
  {
   "cell_type": "code",
   "execution_count": 6,
   "metadata": {},
   "outputs": [],
   "source": [
    "#while abs(func(x)) > eps:\n",
    "    #z = [func(r[0]),func(r[1])]\n",
    "    #a = list(zip(r,z))\n",
    "    #if func(x)>0:  #i.e function value is positive\n",
    "        #i = z.index(min(z))\n",
    "        #r = [x,a[i][0]]\n",
    "    #else:\n",
    "        #i = z.index(max(z))\n",
    "        #r = [x,a[i][0]]\n",
    "    #print(r)    \n",
    "    #x = np.mean(r)\n",
    "    #print(x)"
   ]
  },
  {
   "cell_type": "code",
   "execution_count": 5,
   "metadata": {},
   "outputs": [
    {
     "name": "stdout",
     "output_type": "stream",
     "text": [
      "2.75\n",
      "2.625\n",
      "2.6875\n",
      "2.71875\n",
      "2.703125\n",
      "2.7109375\n",
      "2.70703125\n",
      "2.705078125\n",
      "2.7060546875\n",
      "2.70654296875\n"
     ]
    }
   ],
   "source": [
    "while abs(func(x)) > eps:\n",
    "    if func(x)*func(r[0]) < 0:\n",
    "        r = [x,r[0]]\n",
    "    else:\n",
    "        r = [x,r[1]]\n",
    "    x = np.mean(r)\n",
    "    print(x)"
   ]
  },
  {
   "cell_type": "code",
   "execution_count": null,
   "metadata": {},
   "outputs": [],
   "source": []
  }
 ],
 "metadata": {
  "kernelspec": {
   "display_name": "Python 3",
   "language": "python",
   "name": "python3"
  },
  "language_info": {
   "codemirror_mode": {
    "name": "ipython",
    "version": 3
   },
   "file_extension": ".py",
   "mimetype": "text/x-python",
   "name": "python",
   "nbconvert_exporter": "python",
   "pygments_lexer": "ipython3",
   "version": "3.7.4"
  }
 },
 "nbformat": 4,
 "nbformat_minor": 2
}
