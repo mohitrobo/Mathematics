{
 "cells": [
  {
   "cell_type": "code",
   "execution_count": 1,
   "metadata": {},
   "outputs": [],
   "source": [
    "#import library\n",
    "import numpy as np\n",
    "import time"
   ]
  },
  {
   "cell_type": "code",
   "execution_count": 2,
   "metadata": {},
   "outputs": [],
   "source": [
    "# The function is x^3 - 4*x - 9 \n",
    "def func( x ): \n",
    "    return x**3 - 4*x - 9"
   ]
  },
  {
   "cell_type": "code",
   "execution_count": 8,
   "metadata": {},
   "outputs": [],
   "source": [
    "#interval in which the root lies found using intermediate value property\n",
    "r = [2,3]\n",
    "# x = (r[0]+r[1])/2\n",
    "x = np.mean(r)"
   ]
  },
  {
   "cell_type": "code",
   "execution_count": 9,
   "metadata": {},
   "outputs": [],
   "source": [
    "#find accuracy upto 4 decimal places\n",
    "eps = 0.0001"
   ]
  },
  {
   "cell_type": "code",
   "execution_count": 10,
   "metadata": {},
   "outputs": [
    {
     "name": "stdout",
     "output_type": "stream",
     "text": [
      "2.75\n",
      "2.625\n",
      "2.6875\n",
      "2.71875\n",
      "2.703125\n",
      "2.7109375\n",
      "2.70703125\n",
      "2.705078125\n",
      "2.7060546875\n",
      "2.70654296875\n",
      "2.706298828125\n",
      "2.7064208984375\n",
      "2.70648193359375\n",
      "2.706512451171875\n",
      "2.7065277099609375\n"
     ]
    }
   ],
   "source": [
    "start = time.time()\n",
    "while abs(func(x)) > eps:\n",
    "    if func(x)*func(r[0]) < 0:\n",
    "        r = [x,r[0]]\n",
    "    else:\n",
    "        r = [x,r[1]]\n",
    "    x = np.mean(r)\n",
    "    print(x)\n",
    "\n",
    "end = time.time()"
   ]
  },
  {
   "cell_type": "code",
   "execution_count": 11,
   "metadata": {},
   "outputs": [
    {
     "name": "stdout",
     "output_type": "stream",
     "text": [
      "The final root value is: 2.7065277099609375\n"
     ]
    }
   ],
   "source": [
    "print('The final root value is: {}'.format(x))"
   ]
  },
  {
   "cell_type": "code",
   "execution_count": 12,
   "metadata": {},
   "outputs": [
    {
     "name": "stdout",
     "output_type": "stream",
     "text": [
      "Time taken to execute the result: 0.000965118408203125\n"
     ]
    }
   ],
   "source": [
    "print('Time taken to execute the result: {}'.format(float(end-start)))"
   ]
  },
  {
   "cell_type": "code",
   "execution_count": null,
   "metadata": {},
   "outputs": [],
   "source": []
  }
 ],
 "metadata": {
  "kernelspec": {
   "display_name": "Python 3",
   "language": "python",
   "name": "python3"
  },
  "language_info": {
   "codemirror_mode": {
    "name": "ipython",
    "version": 3
   },
   "file_extension": ".py",
   "mimetype": "text/x-python",
   "name": "python",
   "nbconvert_exporter": "python",
   "pygments_lexer": "ipython3",
   "version": "3.8.3"
  }
 },
 "nbformat": 4,
 "nbformat_minor": 2
}
