{
 "cells": [
  {
   "cell_type": "code",
   "execution_count": 1,
   "metadata": {},
   "outputs": [],
   "source": [
    "import numpy as np"
   ]
  },
  {
   "cell_type": "code",
   "execution_count": 2,
   "metadata": {},
   "outputs": [],
   "source": [
    "# The function is x^3 - 2*x - 5 \n",
    "def func( x ): \n",
    "    return x**3 - 2*x - 5"
   ]
  },
  {
   "cell_type": "code",
   "execution_count": 24,
   "metadata": {},
   "outputs": [],
   "source": [
    "#Regula-Falsi method for root\n",
    "def regula_falsi(a,b):\n",
    "    return a - ((b-a)/(func(b)-func(a))) *func(a)"
   ]
  },
  {
   "cell_type": "code",
   "execution_count": 26,
   "metadata": {},
   "outputs": [
    {
     "data": {
      "text/plain": [
       "2.0588235294117645"
      ]
     },
     "execution_count": 26,
     "metadata": {},
     "output_type": "execute_result"
    }
   ],
   "source": [
    "r = [2,3]\n",
    "x = regula_falsi(r[0],r[1])"
   ]
  },
  {
   "cell_type": "code",
   "execution_count": 27,
   "metadata": {},
   "outputs": [],
   "source": [
    "eps = 0.001"
   ]
  },
  {
   "cell_type": "code",
   "execution_count": 28,
   "metadata": {},
   "outputs": [
    {
     "name": "stdout",
     "output_type": "stream",
     "text": [
      "2.081263659845023\n",
      "2.0896392100908474\n",
      "2.0927395743180055\n",
      "2.0938837084618487\n",
      "2.09430545112526\n",
      "2.0944608457664877\n",
      "2.0945180933857572\n"
     ]
    }
   ],
   "source": [
    "while abs(func(x)) > eps:\n",
    "    if func(x)*func(r[0]) < 0:\n",
    "        r = [x,r[0]]\n",
    "    else:\n",
    "        r = [x,r[1]]\n",
    "        \n",
    "    x = regula_falsi(r[0],r[1])\n",
    "    print(x)"
   ]
  },
  {
   "cell_type": "code",
   "execution_count": null,
   "metadata": {},
   "outputs": [],
   "source": []
  }
 ],
 "metadata": {
  "kernelspec": {
   "display_name": "Python 3",
   "language": "python",
   "name": "python3"
  },
  "language_info": {
   "codemirror_mode": {
    "name": "ipython",
    "version": 3
   },
   "file_extension": ".py",
   "mimetype": "text/x-python",
   "name": "python",
   "nbconvert_exporter": "python",
   "pygments_lexer": "ipython3",
   "version": "3.7.4"
  }
 },
 "nbformat": 4,
 "nbformat_minor": 2
}
