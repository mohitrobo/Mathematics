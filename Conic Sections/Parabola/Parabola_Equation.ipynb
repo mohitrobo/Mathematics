{
 "cells": [
  {
   "cell_type": "markdown",
   "metadata": {},
   "source": [
    "<div style=\"text-align: right\"> <h2><b>Youtube:-</b> <a href=\"https://www.youtube.com/@mohit.mehlawat\">https://www.youtube.com/@mohit.mehlawat</a></h2></div>"
   ]
  },
  {
   "cell_type": "markdown",
   "metadata": {},
   "source": [
    "# Get the equation of Parabola given focus (a,b) and directrix Ax+By+C=0"
   ]
  },
  {
   "cell_type": "code",
   "execution_count": 1,
   "metadata": {},
   "outputs": [],
   "source": [
    "#Import the libraries\n",
    "import numpy as np\n",
    "import matplotlib.pyplot as plt\n",
    "from sympy import Symbol, latex"
   ]
  },
  {
   "cell_type": "code",
   "execution_count": 2,
   "metadata": {},
   "outputs": [
    {
     "name": "stdout",
     "output_type": "stream",
     "text": [
      "Enter the coordinates of focus(comma-separated integers) in the form a,b: 1,1\n",
      "Yep those are the coordinates!\n",
      "The coordinates of the focus of the parabola is (1,1)\n"
     ]
    }
   ],
   "source": [
    "#The code to get the user input for the focus of the parabola\n",
    "while True:\n",
    "    try:\n",
    "        user_input = input('Enter the coordinates of focus(comma-separated integers) in the form a,b: ')\n",
    "        focus = tuple(int(item) for item in user_input.split(','))\n",
    "        if len(focus)==2:\n",
    "            pass\n",
    "        else:\n",
    "            continue\n",
    "    except:\n",
    "        print(\"Looks like you did not enter an integer!\")\n",
    "        continue\n",
    "    else:\n",
    "        print(\"Yep those are the coordinates!\")\n",
    "        break\n",
    "\n",
    "a,b=focus[0],focus[1]\n",
    "print(\"The coordinates of the focus of the parabola is ({},{})\".format(a,b))"
   ]
  },
  {
   "cell_type": "code",
   "execution_count": 3,
   "metadata": {},
   "outputs": [
    {
     "name": "stdout",
     "output_type": "stream",
     "text": [
      "Enter the coefficients(comma-separated integers) of the directrix line(A*x+B*y+C=0) in the form A,B,C: 1,1,1\n",
      "Yep those are the coefficients!\n",
      "The coefficient of the directrix line is (1,1,1)\n"
     ]
    }
   ],
   "source": [
    "#The code to get the user input for the coefficients of the directrix line\n",
    "while True:\n",
    "    try:\n",
    "        user_input = input(\"Enter the coefficients(comma-separated integers) of the directrix line(A*x+B*y+C=0) \"\n",
    "                            \"in the form A,B,C: \")\n",
    "        coeff = tuple(int(item) for item in user_input.split(','))\n",
    "        if len(coeff)==3:\n",
    "            pass\n",
    "        else:\n",
    "            continue\n",
    "    except:\n",
    "        print(\"Looks like you did not enter an integer!\")\n",
    "        continue\n",
    "    else:\n",
    "        print(\"Yep those are the coefficients!\")\n",
    "        break\n",
    "\n",
    "A,B,C=coeff[0],coeff[1],coeff[2]\n",
    "print(\"The coefficient of the directrix line is ({},{},{})\".format(A,B,C))"
   ]
  },
  {
   "cell_type": "code",
   "execution_count": 4,
   "metadata": {},
   "outputs": [],
   "source": [
    "# Function to return the equation of parabola\n",
    "def parabola_equation(a,b,A,B,C):\n",
    "    r=A**2+B**2\n",
    "    t=a**2+b**2\n",
    "    \n",
    "    return (B**2)*x**2 +(A**2)*y**2-2*A*B*x*y-2*(a*r+A*C)*x-2*(b*r+B*C)*y+r*t-C**2"
   ]
  },
  {
   "cell_type": "code",
   "execution_count": 5,
   "metadata": {},
   "outputs": [],
   "source": [
    "x,y=Symbol('x'),Symbol('y')\n",
    "#call the function to get the equation\n",
    "equation=parabola_equation(a,b,A,B,C)"
   ]
  },
  {
   "cell_type": "code",
   "execution_count": 6,
   "metadata": {},
   "outputs": [
    {
     "data": {
      "text/latex": [
       "$\\displaystyle x^{2} - 2 x y - 6 x + y^{2} - 6 y + 3$"
      ],
      "text/plain": [
       "x**2 - 2*x*y - 6*x + y**2 - 6*y + 3"
      ]
     },
     "execution_count": 6,
     "metadata": {},
     "output_type": "execute_result"
    }
   ],
   "source": [
    "equation"
   ]
  },
  {
   "cell_type": "code",
   "execution_count": 7,
   "metadata": {},
   "outputs": [
    {
     "data": {
      "image/png": "[encoded data removed]",
      "text/plain": [
       "<Figure size 432x288 with 1 Axes>"
      ]
     },
     "metadata": {
      "needs_background": "light"
     },
     "output_type": "display_data"
    }
   ],
   "source": [
    "#Retrive the equation of the parabola\n",
    "latex_code = latex(equation)\n",
    "\n",
    "plt.text(0.5, 0.5, f'${latex_code}=0$', size=30)\n",
    "plt.axis('off')\n",
    "plt.show()"
   ]
  },
  {
   "cell_type": "markdown",
   "metadata": {},
   "source": [
    "<div style=\"text-align: left\"> <h1><b>If you liked the content, Kindly Support: </b></h1></div>\n",
    "<div style=\"text-align: left\"> <h2><b>Paypal:-</b> <a href=\"https://paypal.me/mohitmehlawat\">https://paypal.me/mohitmehlawat</a></h2></div>\n",
    "<div style=\"text-align: left\"> <h2><b>Paytm:-</b> mohit.mehlawat@paytm</h2></div>"
   ]
  },
  {
   "cell_type": "code",
   "execution_count": null,
   "metadata": {},
   "outputs": [],
   "source": []
  }
 ],
 "metadata": {
  "kernelspec": {
   "display_name": "Python 3",
   "language": "python",
   "name": "python3"
  },
  "language_info": {
   "codemirror_mode": {
    "name": "ipython",
    "version": 3
   },
   "file_extension": ".py",
   "mimetype": "text/x-python",
   "name": "python",
   "nbconvert_exporter": "python",
   "pygments_lexer": "ipython3",
   "version": "3.8.5"
  }
 },
 "nbformat": 4,
 "nbformat_minor": 4
}
